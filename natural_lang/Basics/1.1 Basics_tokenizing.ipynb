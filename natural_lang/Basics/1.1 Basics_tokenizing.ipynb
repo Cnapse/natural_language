{
 "cells": [
  {
   "cell_type": "code",
   "execution_count": 1,
   "metadata": {},
   "outputs": [],
   "source": [
    "import tensorflow"
   ]
  },
  {
   "cell_type": "code",
   "execution_count": 4,
   "metadata": {},
   "outputs": [],
   "source": [
    "import nltk\n",
    "from nltk.tokenize import sent_tokenize, word_tokenize"
   ]
  },
  {
   "cell_type": "code",
   "execution_count": 15,
   "metadata": {},
   "outputs": [],
   "source": [
    "text = \"Hi! This is Charan. I am gonna build the best Humanoid in the History of Man-Kind\"\n",
    "text_es = \"Hola! Me illamo Charan. Yo voy para conconstruir el Humanoid mejor en la historia de la humanidad\""
   ]
  },
  {
   "cell_type": "code",
   "execution_count": 16,
   "metadata": {},
   "outputs": [],
   "source": [
    "tokenized_sent = sent_tokenize(text)\n",
    "tokenized_sent_byword = word_tokenize(text)"
   ]
  },
  {
   "cell_type": "code",
   "execution_count": 17,
   "metadata": {},
   "outputs": [
    {
     "name": "stdout",
     "output_type": "stream",
     "text": [
      "['Hi!', 'This is Charan.', 'I am gonna build the best Humanoid in the History of Man-Kind']\n"
     ]
    }
   ],
   "source": [
    "print (tokenized_sent)"
   ]
  },
  {
   "cell_type": "code",
   "execution_count": 18,
   "metadata": {},
   "outputs": [
    {
     "name": "stdout",
     "output_type": "stream",
     "text": [
      "['Hi', '!', 'This', 'is', 'Charan', '.', 'I', 'am', 'gon', 'na', 'build', 'the', 'best', 'Humanoid', 'in', 'the', 'History', 'of', 'Man-Kind']\n"
     ]
    }
   ],
   "source": [
    "print(tokenized_sent_byword)"
   ]
  },
  {
   "cell_type": "code",
   "execution_count": 19,
   "metadata": {},
   "outputs": [],
   "source": [
    "tokenized_sent_es = sent_tokenize(text_es)\n",
    "tokenized_sent_byword_es = word_tokenize(text_es)"
   ]
  },
  {
   "cell_type": "code",
   "execution_count": 20,
   "metadata": {},
   "outputs": [
    {
     "name": "stdout",
     "output_type": "stream",
     "text": [
      "['Hola!', 'Me illamo Charan.', 'Yo voy para conconstruir el Humanoid mejor en la historia de la humanidad']\n"
     ]
    }
   ],
   "source": [
    "print(tokenized_sent_es)"
   ]
  },
  {
   "cell_type": "code",
   "execution_count": 21,
   "metadata": {},
   "outputs": [
    {
     "name": "stdout",
     "output_type": "stream",
     "text": [
      "['Hola', '!', 'Me', 'illamo', 'Charan', '.', 'Yo', 'voy', 'para', 'conconstruir', 'el', 'Humanoid', 'mejor', 'en', 'la', 'historia', 'de', 'la', 'humanidad']\n"
     ]
    }
   ],
   "source": [
    "print(tokenized_sent_byword_es) "
   ]
  }
 ],
 "metadata": {
  "kernelspec": {
   "display_name": "Python 3",
   "language": "python",
   "name": "python3"
  },
  "language_info": {
   "codemirror_mode": {
    "name": "ipython",
    "version": 3
   },
   "file_extension": ".py",
   "mimetype": "text/x-python",
   "name": "python",
   "nbconvert_exporter": "python",
   "pygments_lexer": "ipython3",
   "version": "3.7.3"
  }
 },
 "nbformat": 4,
 "nbformat_minor": 2
}
